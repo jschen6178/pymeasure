{
 "cells": [
  {
   "cell_type": "code",
   "execution_count": 33,
   "metadata": {},
   "outputs": [],
   "source": [
    "import matplotlib.pyplot as plt\n",
    "import pandas as pd\n",
    "import os"
   ]
  },
  {
   "cell_type": "code",
   "execution_count": 1,
   "metadata": {},
   "outputs": [],
   "source": [
    "def parse_header(file_path):\n",
    "    header_info = {}\n",
    "    with open(file_path, 'r') as file:\n",
    "        in_header = False\n",
    "        for line in file:\n",
    "            line = line.strip()\n",
    "            if line == '[Header]':\n",
    "                in_header = True\n",
    "                continue\n",
    "            elif line == '[Data]':\n",
    "                break\n",
    "            \n",
    "            if in_header and line:\n",
    "                parts = line.split(',', 1)\n",
    "                key = parts[0].strip()\n",
    "                value = parts[1].strip() if len(parts) > 1 else ''\n",
    "                header_info[key] = value\n",
    "    return header_info"
   ]
  },
  {
   "cell_type": "code",
   "execution_count": 15,
   "metadata": {},
   "outputs": [],
   "source": [
    "def read_data(file_path):\n",
    "    with open(file_path, 'r') as file:\n",
    "        in_data = False\n",
    "        for line in file:\n",
    "            if line.strip() == '[Data]':\n",
    "                in_data = True\n",
    "                continue\n",
    "            if in_data:\n",
    "                # First line after [Data] contains column names\n",
    "                columns = line.strip().split(',')\n",
    "                # Use pandas to read the CSV data, specifying the column names\n",
    "                df = pd.read_csv(file, names=columns, index_col=False)\n",
    "                return df"
   ]
  },
  {
   "cell_type": "code",
   "execution_count": 37,
   "metadata": {},
   "outputs": [],
   "source": [
    "# Specify the file path\n",
    "current_dir = os.getcwd()\n",
    "file_name = 'CH1 YBCO_LAO CH2 YBCO_STO CH3 1000SIOLOW ENERGY_STO .dat'\n",
    "file_path = os.path.join(current_dir,file_name)\n",
    "\n",
    "# Parse the header\n",
    "header_info = parse_header(file_path)\n",
    "\n",
    "# Read the data\n",
    "data_df = read_data(file_path)\n"
   ]
  },
  {
   "cell_type": "code",
   "execution_count": 20,
   "metadata": {},
   "outputs": [
    {
     "name": "stdout",
     "output_type": "stream",
     "text": [
      "311\n"
     ]
    }
   ],
   "source": [
    "print(len(data_df))"
   ]
  },
  {
   "cell_type": "code",
   "execution_count": 29,
   "metadata": {},
   "outputs": [
    {
     "name": "stdout",
     "output_type": "stream",
     "text": [
      "Critical temperautre: 87.6440505981445\n"
     ]
    }
   ],
   "source": [
    "rs = data_df[\"Bridge 1 Resistivity (Ohm-m)\"]\n",
    "ts = data_df[\"Temperature (K)\"]\n",
    "sc_index = None\n",
    "for i in range(len(rs)):\n",
    "  if rs[i]<1e-3:\n",
    "    sc_index = i\n",
    "    break\n",
    "tc = ts[sc_index]\n",
    "print(f\"Critical temperautre: {tc}\")\n"
   ]
  },
  {
   "cell_type": "code",
   "execution_count": 31,
   "metadata": {},
   "outputs": [
    {
     "data": {
      "text/plain": [
       "<matplotlib.lines.Line2D at 0x26483503a50>"
      ]
     },
     "execution_count": 31,
     "metadata": {},
     "output_type": "execute_result"
    },
    {
     "data": {
      "image/png": "[encoded data removed]",
      "text/plain": [
       "<Figure size 640x480 with 1 Axes>"
      ]
     },
     "metadata": {},
     "output_type": "display_data"
    }
   ],
   "source": [
    "plt.plot(data_df[\"Temperature (K)\"][200:250], data_df[\"Bridge 1 Resistivity (Ohm-m)\"][200:250])\n",
    "plt.axvline(x = tc, color = 'b', label = 'superconducting temperature')"
   ]
  }
 ],
 "metadata": {
  "kernelspec": {
   "display_name": "base",
   "language": "python",
   "name": "python3"
  },
  "language_info": {
   "codemirror_mode": {
    "name": "ipython",
    "version": 3
   },
   "file_extension": ".py",
   "mimetype": "text/x-python",
   "name": "python",
   "nbconvert_exporter": "python",
   "pygments_lexer": "ipython3",
   "version": "3.11.7"
  }
 },
 "nbformat": 4,
 "nbformat_minor": 2
}
