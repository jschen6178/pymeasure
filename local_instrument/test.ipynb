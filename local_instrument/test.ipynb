{
 "cells": [
  {
   "cell_type": "code",
   "execution_count": 2,
   "metadata": {},
   "outputs": [
    {
     "name": "stderr",
     "output_type": "stream",
     "text": [
      "/Users/jc/Documents/GitHub/pymeasure/.conda/lib/python3.11/site-packages/pyvisa_py/tcpip.py:122: UserWarning: TCPIP::hislip resource discovery requires the zeroconf package to be installed... try 'pip install zeroconf'\n",
      "  warnings.warn(\n"
     ]
    },
    {
     "name": "stdout",
     "output_type": "stream",
     "text": [
      "0 : ASRL/dev/cu.wlan-debug::INSTR : Not known\n",
      "1 : ASRL/dev/cu.BoseQC45::INSTR : Not known\n",
      "2 : ASRL/dev/cu.JBLFlip5::INSTR : Not known\n",
      "3 : ASRL/dev/cu.Bluetooth-Incoming-Port::INSTR : Not known\n"
     ]
    },
    {
     "data": {
      "text/plain": [
       "('ASRL/dev/cu.wlan-debug::INSTR',\n",
       " 'ASRL/dev/cu.BoseQC45::INSTR',\n",
       " 'ASRL/dev/cu.JBLFlip5::INSTR',\n",
       " 'ASRL/dev/cu.Bluetooth-Incoming-Port::INSTR')"
      ]
     },
     "execution_count": 2,
     "metadata": {},
     "output_type": "execute_result"
    }
   ],
   "source": [
    "from pymeasure.instruments.resources import list_resources\n",
    "list_resources()"
   ]
  }
 ],
 "metadata": {
  "kernelspec": {
   "display_name": "Python 3",
   "language": "python",
   "name": "python3"
  },
  "language_info": {
   "codemirror_mode": {
    "name": "ipython",
    "version": 3
   },
   "file_extension": ".py",
   "mimetype": "text/x-python",
   "name": "python",
   "nbconvert_exporter": "python",
   "pygments_lexer": "ipython3",
   "version": "3.11.9"
  }
 },
 "nbformat": 4,
 "nbformat_minor": 2
}
