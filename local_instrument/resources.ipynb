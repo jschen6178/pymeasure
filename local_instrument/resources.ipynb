{
 "cells": [
  {
   "cell_type": "code",
   "execution_count": 11,
   "metadata": {},
   "outputs": [
    {
     "name": "stdout",
     "output_type": "stream",
     "text": [
      "0 : ASRL3::INSTR : Not known\n",
      "1 : ASRL4::INSTR : Visa IO Error: check connections\n",
      "VI_ERROR_RSRC_BUSY (-1073807246): The resource is valid, but VISA cannot currently access it.\n",
      "2 : GPIB0::3::INSTR : YOKOGAWA,GS210,91V626180,2.02\n",
      "3 : GPIB0::7::INSTR : KEITHLEY INSTRUMENTS INC.,MODEL 2182A,1081432,C01  /A02  \n",
      "4 : GPIB0::11::INSTR : LSCI,MODEL625,LSA2MIA,1.6/1.1\n",
      "-2.18725499e-05\n",
      "Output Level: 0.002 A\n"
     ]
    }
   ],
   "source": [
    "from pymeasure.instruments.resources import list_resources\n",
    "list_resources()\n",
    "from lakeshore import Model336\n",
    "\n",
    "from keithley2182 import Keithley2182\n",
    "from time import sleep\n",
    "my_2182 = Keithley2182(\"GPIB::7\")\n",
    "my_2182.reset()\n",
    "my_2182.active_channel = 1\n",
    "my_2182.channel_function = \"voltage\"\n",
    "my_2182.ch_1.setup_voltage(auto_range=True, nplc=5)\n",
    "print(my_2182.voltage)\n",
    "\n",
    "from Yokogawa_GS200 import YokogawaGS200\n",
    "yoko = YokogawaGS200(\"GPIB::3\")\n",
    "yoko.reset()\n",
    "# Enable the source\n",
    "yoko.source_enabled = True\n",
    "\n",
    "# Set the source mode to 'current'\n",
    "yoko.source_mode = 'current'\n",
    "\n",
    "# Set the current limit (if needed, for safety)\n",
    "yoko.current_limit = 2e-3\n",
    "\n",
    "# Set the source range to an appropriate value\n",
    "yoko.source_range = 2e-3\n",
    "\n",
    "# Set the output level to 1mA\n",
    "yoko.source_level = 2e-3\n",
    "\n",
    "# Print the output level to verify\n",
    "print(f\"Output Level: {yoko.source_level} A\")\n"
   ]
  }
 ],
 "metadata": {
  "kernelspec": {
   "display_name": "Python 3",
   "language": "python",
   "name": "python3"
  },
  "language_info": {
   "codemirror_mode": {
    "name": "ipython",
    "version": 3
   },
   "file_extension": ".py",
   "mimetype": "text/x-python",
   "name": "python",
   "nbconvert_exporter": "python",
   "pygments_lexer": "ipython3",
   "version": "3.11.9"
  }
 },
 "nbformat": 4,
 "nbformat_minor": 2
}
