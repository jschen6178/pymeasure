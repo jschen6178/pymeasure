{
 "cells": [
  {
   "cell_type": "code",
   "execution_count": 1,
   "metadata": {},
   "outputs": [
    {
     "name": "stdout",
     "output_type": "stream",
     "text": [
      "0 : ASRL3::INSTR : Not known\n",
      "1 : ASRL4::INSTR : Not known\n",
      "2 : GPIB0::8::INSTR : Stanford_Research_Systems,SR830,s/n40287,ver1.07 \n",
      "3 : GPIB0::11::INSTR : LSCI,MODEL625,LSA2MIA,1.6/1.1\n",
      "4 : GPIB0::12::INSTR : KEITHLEY INSTRUMENTS INC.,MODEL 2001,0843998,B15  /A02  \n"
     ]
    },
    {
     "ename": "InstrumentException",
     "evalue": "Command Error: Invalid Command or Query",
     "output_type": "error",
     "traceback": [
      "\u001b[1;31m---------------------------------------------------------------------------\u001b[0m",
      "\u001b[1;31mInstrumentException\u001b[0m                       Traceback (most recent call last)",
      "Cell \u001b[1;32mIn[1], line 8\u001b[0m\n\u001b[0;32m      3\u001b[0m \u001b[38;5;28;01mfrom\u001b[39;00m \u001b[38;5;21;01mlakeshore\u001b[39;00m \u001b[38;5;28;01mimport\u001b[39;00m Model336\n\u001b[0;32m      5\u001b[0m tctrl \u001b[38;5;241m=\u001b[39m Model336(\n\u001b[0;32m      6\u001b[0m             com_port\u001b[38;5;241m=\u001b[39m\u001b[38;5;124m\"\u001b[39m\u001b[38;5;124mCOM4\u001b[39m\u001b[38;5;124m\"\u001b[39m\n\u001b[0;32m      7\u001b[0m         )  \u001b[38;5;66;03m# COM 4 - this is the one that controls sample, magnet, and radiation\u001b[39;00m\n\u001b[1;32m----> 8\u001b[0m \u001b[43mtctrl\u001b[49m\u001b[38;5;241;43m.\u001b[39;49m\u001b[43mget_all_kelvin_reading\u001b[49m\u001b[43m(\u001b[49m\u001b[43m)\u001b[49m\n\u001b[0;32m      9\u001b[0m tctrl\u001b[38;5;241m.\u001b[39mreset_instrument()\n",
      "File \u001b[1;32mc:\\Users\\PS_Administrator\\Documents\\Justin Chen\\GitHub\\pymeasure\\.conda\\Lib\\site-packages\\lakeshore\\model_336.py:398\u001b[0m, in \u001b[0;36mModel336.get_all_kelvin_reading\u001b[1;34m(self)\u001b[0m\n\u001b[0;32m    390\u001b[0m \u001b[38;5;28;01mdef\u001b[39;00m \u001b[38;5;21mget_all_kelvin_reading\u001b[39m(\u001b[38;5;28mself\u001b[39m):\n\u001b[0;32m    391\u001b[0m \u001b[38;5;250m    \u001b[39m\u001b[38;5;124;03m\"\"\"Returns the temperature value in kelvin of all channels.\u001b[39;00m\n\u001b[0;32m    392\u001b[0m \n\u001b[0;32m    393\u001b[0m \u001b[38;5;124;03m        Returns:\u001b[39;00m\n\u001b[1;32m   (...)\u001b[0m\n\u001b[0;32m    396\u001b[0m \n\u001b[0;32m    397\u001b[0m \u001b[38;5;124;03m    \"\"\"\u001b[39;00m\n\u001b[1;32m--> 398\u001b[0m     kelvin_reading \u001b[38;5;241m=\u001b[39m \u001b[38;5;28;43mself\u001b[39;49m\u001b[38;5;241;43m.\u001b[39;49m\u001b[43mquery\u001b[49m\u001b[43m(\u001b[49m\u001b[38;5;124;43m\"\u001b[39;49m\u001b[38;5;124;43mKRDG? 0\u001b[39;49m\u001b[38;5;124;43m\"\u001b[39;49m\u001b[43m)\u001b[49m\u001b[38;5;241m.\u001b[39msplit(\u001b[38;5;124m\"\u001b[39m\u001b[38;5;124m,\u001b[39m\u001b[38;5;124m\"\u001b[39m)\n\u001b[0;32m    399\u001b[0m     \u001b[38;5;28;01mreturn\u001b[39;00m [\u001b[38;5;28mfloat\u001b[39m(channel) \u001b[38;5;28;01mfor\u001b[39;00m channel \u001b[38;5;129;01min\u001b[39;00m kelvin_reading]\n",
      "File \u001b[1;32mc:\\Users\\PS_Administrator\\Documents\\Justin Chen\\GitHub\\pymeasure\\.conda\\Lib\\site-packages\\lakeshore\\temperature_controllers.py:198\u001b[0m, in \u001b[0;36mTemperatureController.query\u001b[1;34m(self, check_errors, *queries)\u001b[0m\n\u001b[0;32m    196\u001b[0m     response_list \u001b[38;5;241m=\u001b[39m response\u001b[38;5;241m.\u001b[39msplit(\u001b[38;5;124m'\u001b[39m\u001b[38;5;124m;\u001b[39m\u001b[38;5;124m'\u001b[39m)\n\u001b[0;32m    197\u001b[0m     error_code \u001b[38;5;241m=\u001b[39m response_list\u001b[38;5;241m.\u001b[39mpop()\n\u001b[1;32m--> 198\u001b[0m     \u001b[38;5;28;43mself\u001b[39;49m\u001b[38;5;241;43m.\u001b[39;49m\u001b[43m_error_check\u001b[49m\u001b[43m(\u001b[49m\u001b[43merror_code\u001b[49m\u001b[43m)\u001b[49m\n\u001b[0;32m    199\u001b[0m     response \u001b[38;5;241m=\u001b[39m \u001b[38;5;124m'\u001b[39m\u001b[38;5;124m;\u001b[39m\u001b[38;5;124m'\u001b[39m\u001b[38;5;241m.\u001b[39mjoin(response_list)\n\u001b[0;32m    201\u001b[0m \u001b[38;5;28;01mreturn\u001b[39;00m response\n",
      "File \u001b[1;32mc:\\Users\\PS_Administrator\\Documents\\Justin Chen\\GitHub\\pymeasure\\.conda\\Lib\\site-packages\\lakeshore\\temperature_controllers.py:148\u001b[0m, in \u001b[0;36mTemperatureController._error_check\u001b[1;34m(error_code)\u001b[0m\n\u001b[0;32m    146\u001b[0m     \u001b[38;5;28;01mraise\u001b[39;00m InstrumentException(\u001b[38;5;124m'\u001b[39m\u001b[38;5;124mQuery Error\u001b[39m\u001b[38;5;124m'\u001b[39m)\n\u001b[0;32m    147\u001b[0m \u001b[38;5;28;01mif\u001b[39;00m event_register\u001b[38;5;241m.\u001b[39mcommand_error:\n\u001b[1;32m--> 148\u001b[0m     \u001b[38;5;28;01mraise\u001b[39;00m InstrumentException(\u001b[38;5;124m'\u001b[39m\u001b[38;5;124mCommand Error: Invalid Command or Query\u001b[39m\u001b[38;5;124m'\u001b[39m)\n\u001b[0;32m    149\u001b[0m \u001b[38;5;28;01mif\u001b[39;00m event_register\u001b[38;5;241m.\u001b[39mexecution_error:\n\u001b[0;32m    150\u001b[0m     \u001b[38;5;28;01mraise\u001b[39;00m InstrumentException(\u001b[38;5;124m'\u001b[39m\u001b[38;5;124mExecution Error: Instrument not able to execute command or query.\u001b[39m\u001b[38;5;124m'\u001b[39m)\n",
      "\u001b[1;31mInstrumentException\u001b[0m: Command Error: Invalid Command or Query"
     ]
    }
   ],
   "source": [
    "from pymeasure.instruments.resources import list_resources\n",
    "list_resources()\n",
    "from lakeshore import Model336\n",
    "\n",
    "tctrl = Model336(\n",
    "            com_port=\"COM4\"\n",
    "        )  # COM 4 - this is the one that controls sample, magnet, and radiation\n",
    "tctrl.get_all_kelvin_reading()\n",
    "tctrl.reset_instrument()"
   ]
  }
 ],
 "metadata": {
  "kernelspec": {
   "display_name": "Python 3",
   "language": "python",
   "name": "python3"
  },
  "language_info": {
   "codemirror_mode": {
    "name": "ipython",
    "version": 3
   },
   "file_extension": ".py",
   "mimetype": "text/x-python",
   "name": "python",
   "nbconvert_exporter": "python",
   "pygments_lexer": "ipython3",
   "version": "3.11.9"
  }
 },
 "nbformat": 4,
 "nbformat_minor": 2
}
