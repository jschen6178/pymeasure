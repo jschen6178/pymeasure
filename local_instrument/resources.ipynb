{
 "cells": [
  {
   "cell_type": "code",
   "execution_count": 5,
   "metadata": {},
   "outputs": [
    {
     "name": "stdout",
     "output_type": "stream",
     "text": [
      "0 : ASRL3::INSTR : Not known\n",
      "1 : ASRL4::INSTR : Not known\n",
      "2 : GPIB0::3::INSTR : YOKOGAWA,GS210,91V626180,2.02\n",
      "3 : GPIB0::7::INSTR : KEITHLEY INSTRUMENTS INC.,MODEL 2182A,1081432,C01  /A02  \n",
      "4 : GPIB0::8::INSTR : Stanford_Research_Systems,SR830,s/n40287,ver1.07 \n",
      "5 : GPIB0::11::INSTR : LSCI,MODEL625,LSA2MIA,1.6/1.1\n"
     ]
    },
    {
     "data": {
      "text/plain": [
       "('ASRL3::INSTR',\n",
       " 'ASRL4::INSTR',\n",
       " 'GPIB0::3::INSTR',\n",
       " 'GPIB0::7::INSTR',\n",
       " 'GPIB0::8::INSTR',\n",
       " 'GPIB0::11::INSTR')"
      ]
     },
     "execution_count": 5,
     "metadata": {},
     "output_type": "execute_result"
    }
   ],
   "source": [
    "from pymeasure.instruments.resources import list_resources\n",
    "import os, sys\n",
    "list_resources()"
   ]
  },
  {
   "cell_type": "markdown",
   "metadata": {},
   "source": [
    "# Start of a new section"
   ]
  },
  {
   "cell_type": "code",
   "execution_count": 6,
   "metadata": {},
   "outputs": [
    {
     "name": "stdout",
     "output_type": "stream",
     "text": [
      "hello\n"
     ]
    }
   ],
   "source": [
    "print('hello')"
   ]
  }
 ],
 "metadata": {
  "kernelspec": {
   "display_name": "Python 3",
   "language": "python",
   "name": "python3"
  },
  "language_info": {
   "codemirror_mode": {
    "name": "ipython",
    "version": 3
   },
   "file_extension": ".py",
   "mimetype": "text/x-python",
   "name": "python",
   "nbconvert_exporter": "python",
   "pygments_lexer": "ipython3",
   "version": "3.11.9"
  }
 },
 "nbformat": 4,
 "nbformat_minor": 2
}
