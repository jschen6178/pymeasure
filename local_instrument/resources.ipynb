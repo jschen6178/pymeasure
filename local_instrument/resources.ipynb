{
 "cells": [
  {
   "cell_type": "code",
   "execution_count": 8,
   "metadata": {},
   "outputs": [
    {
     "name": "stdout",
     "output_type": "stream",
     "text": [
      "<class 'float'>\n"
     ]
    },
    {
     "name": "stderr",
     "output_type": "stream",
     "text": [
      "c:\\Users\\PS_Administrator\\Documents\\Justin Chen\\GitHub\\pymeasure\\.conda\\Lib\\site-packages\\pymeasure\\instruments\\instrument.py:95: FutureWarning: It is deprecated to specify `includeSCPI` implicitly, use `includeSCPI=False` or inherit the `SCPIMixin` class instead.\n",
      "  warn(\"It is deprecated to specify `includeSCPI` implicitly, use \"\n"
     ]
    }
   ],
   "source": [
    "from pymeasure.instruments.resources import list_resources\n",
    "\n",
    "import os, sys\n",
    "\n",
    "from Lakeshore_LS625 import ElectromagnetPowerSupply\n",
    "magnet = ElectromagnetPowerSupply(\"GPIB::11\")\n",
    "\n",
    "print(type(magnet.get_ramp_rate()))"
   ]
  }
 ],
 "metadata": {
  "kernelspec": {
   "display_name": "Python 3",
   "language": "python",
   "name": "python3"
  },
  "language_info": {
   "codemirror_mode": {
    "name": "ipython",
    "version": 3
   },
   "file_extension": ".py",
   "mimetype": "text/x-python",
   "name": "python",
   "nbconvert_exporter": "python",
   "pygments_lexer": "ipython3",
   "version": "3.11.9"
  }
 },
 "nbformat": 4,
 "nbformat_minor": 2
}
